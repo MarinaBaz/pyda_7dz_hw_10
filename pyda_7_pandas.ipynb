{
 "cells": [
  {
   "cell_type": "code",
   "execution_count": 3,
   "metadata": {},
   "outputs": [],
   "source": [
    "import pandas as pd"
   ]
  },
  {
   "cell_type": "markdown",
   "metadata": {},
   "source": [
    "# Библиотека Pandas. Д/З к лекции 10"
   ]
  },
  {
   "cell_type": "markdown",
   "metadata": {},
   "source": [
    "**Задание 1.**\n",
    "Скачайте с сайта https://grouplens.org/datasets/movielens/ датасет любого размера. Определите какому фильму было выставлено больше всего оценок 5.0."
   ]
  },
  {
   "cell_type": "markdown",
   "metadata": {},
   "source": [
    "dataset (ml-latest-small) size: 1 MB"
   ]
  },
  {
   "cell_type": "code",
   "execution_count": 23,
   "metadata": {},
   "outputs": [
    {
     "name": "stdout",
     "output_type": "stream",
     "text": [
      "Фильму c movieId:318, 277    Shawshank Redemption, The (1994)\n",
      "Name: title, dtype: object выставлено больше всего оценок 5.0 (318)\n"
     ]
    }
   ],
   "source": [
    "data_ratings = pd.read_csv('ratings.csv')\n",
    "data_movies = pd.read_csv('movies.csv')\n",
    "\n",
    "#data_ratings.head()\n",
    "#data_ratings.info()\n",
    "\n",
    "#data_movies.head()\n",
    "#data_movies.info()\n",
    "\n",
    "id_movie_five = data_ratings[ data_ratings.rating == 5.0 ]['movieId'].value_counts().head(1)\n",
    "#print(id_movie_five)\n",
    "\n",
    "movie_five = data_movies[ data_movies.movieId == id_movie_five.index[0]]\n",
    "#print(movie_five)\n",
    "print(f'Фильму c movieId:{id_movie_five.index[0]}, {movie_five.title} выставлено больше всего оценок 5.0 ({id_movie_five.index[0]})')"
   ]
  },
  {
   "cell_type": "markdown",
   "metadata": {},
   "source": [
    "**Задание 2.**\n",
    "По данным файла power.csv посчитайте суммарное потребление стран Прибалтики (Латвия, Литва и Эстония) категорий 4, 12 и 21 за период с 2005 по 2010 года.\n",
    "Не учитывайте в расчетах отрицательные значения quantity."
   ]
  },
  {
   "cell_type": "code",
   "execution_count": 38,
   "metadata": {},
   "outputs": [
    {
     "data": {
      "text/plain": [
       "240580.0"
      ]
     },
     "execution_count": 38,
     "metadata": {},
     "output_type": "execute_result"
    }
   ],
   "source": [
    "data_power = pd.read_csv('power.csv')\n",
    "#data_power.head()\n",
    "\n",
    "#data_power['country'].unique()\n",
    "\n",
    "data_filter = data_power[\n",
    "    ( (data_power['category'] == 4)\n",
    "    | (data_power['category'] == 12)\n",
    "    | (data_power['category'] == 21))\n",
    "    &\n",
    "    ((data_power['country'] == 'Latvia')\n",
    "    | (data_power['country'] == 'Lithuania')\n",
    "    | (data_power['country'] == 'Estonia'))\n",
    "    &\n",
    "    ((data_power['year'] >=2005) & (data_power['year'] <=2010))\n",
    "    &\n",
    "    (data_power['quantity'] >= 0)\n",
    "]\n",
    "\n",
    "#data_filter.groupby(['category','country','year']).aggregate(sum)\n",
    "data_filter.quantity.sum()"
   ]
  },
  {
   "cell_type": "markdown",
   "metadata": {},
   "source": [
    "**Задание 3.**\n",
    "Выберите страницу любого сайта с табличными данными. Импортируйте таблицы в pandas dataframe.\n",
    "Примеры страниц (необязательно брать именно эти): \n",
    "https://fortrader.org/quotes\n",
    "https://www.finanz.ru/valyuty/v-realnom-vremeni"
   ]
  },
  {
   "cell_type": "code",
   "execution_count": 43,
   "metadata": {},
   "outputs": [
    {
     "data": {
      "text/html": [
       "<div>\n",
       "<style scoped>\n",
       "    .dataframe tbody tr th:only-of-type {\n",
       "        vertical-align: middle;\n",
       "    }\n",
       "\n",
       "    .dataframe tbody tr th {\n",
       "        vertical-align: top;\n",
       "    }\n",
       "\n",
       "    .dataframe thead th {\n",
       "        text-align: right;\n",
       "    }\n",
       "</style>\n",
       "<table border=\"1\" class=\"dataframe\">\n",
       "  <thead>\n",
       "    <tr style=\"text-align: right;\">\n",
       "      <th></th>\n",
       "      <th>Type</th>\n",
       "      <th>Last</th>\n",
       "      <th>Chg.</th>\n",
       "      <th>Chg.%</th>\n",
       "      <th>Time</th>\n",
       "    </tr>\n",
       "  </thead>\n",
       "  <tbody>\n",
       "    <tr>\n",
       "      <td>0</td>\n",
       "      <td>Серебро Цена на серебро</td>\n",
       "      <td>17.457</td>\n",
       "      <td>0.003</td>\n",
       "      <td>0.017</td>\n",
       "      <td>NaN</td>\n",
       "    </tr>\n",
       "    <tr>\n",
       "      <td>1</td>\n",
       "      <td>Палладий Цена на Палладий</td>\n",
       "      <td>2173.500</td>\n",
       "      <td>-5.550</td>\n",
       "      <td>-0.250</td>\n",
       "      <td>NaN</td>\n",
       "    </tr>\n",
       "    <tr>\n",
       "      <td>2</td>\n",
       "      <td>Золото Цена золота на бирже</td>\n",
       "      <td>1570.430</td>\n",
       "      <td>3.370</td>\n",
       "      <td>0.220</td>\n",
       "      <td>NaN</td>\n",
       "    </tr>\n",
       "    <tr>\n",
       "      <td>3</td>\n",
       "      <td>Платина Цены на платину</td>\n",
       "      <td>974.100</td>\n",
       "      <td>-14.700</td>\n",
       "      <td>-1.500</td>\n",
       "      <td>NaN</td>\n",
       "    </tr>\n",
       "    <tr>\n",
       "      <td>4</td>\n",
       "      <td>Медь Цена меди на бирже</td>\n",
       "      <td>2.561</td>\n",
       "      <td>-0.026</td>\n",
       "      <td>-1.005</td>\n",
       "      <td>NaN</td>\n",
       "    </tr>\n",
       "  </tbody>\n",
       "</table>\n",
       "</div>"
      ],
      "text/plain": [
       "                          Type      Last    Chg.  Chg.%  Time\n",
       "0      Серебро Цена на серебро    17.457   0.003  0.017   NaN\n",
       "1    Палладий Цена на Палладий  2173.500  -5.550 -0.250   NaN\n",
       "2  Золото Цена золота на бирже  1570.430   3.370  0.220   NaN\n",
       "3      Платина Цены на платину   974.100 -14.700 -1.500   NaN\n",
       "4      Медь Цена меди на бирже     2.561  -0.026 -1.005   NaN"
      ]
     },
     "execution_count": 43,
     "metadata": {},
     "output_type": "execute_result"
    }
   ],
   "source": [
    "df = pd.read_html('https://fortrader.org/quotes')[2]\n",
    "#type(df)\n",
    "df"
   ]
  },
  {
   "cell_type": "markdown",
   "metadata": {},
   "source": [
    "**Упражнение.**\n",
    "Используем transactions.csv.\n",
    "\n",
    "Для какой транзакции (столбец ID) были наибольшие расходы (столбец Cost) в категории \"_8\" (столбец Product)?"
   ]
  },
  {
   "cell_type": "code",
   "execution_count": 73,
   "metadata": {},
   "outputs": [
    {
     "data": {
      "text/plain": [
       "54    t055\n",
       "Name: ID, dtype: object"
      ]
     },
     "execution_count": 73,
     "metadata": {},
     "output_type": "execute_result"
    }
   ],
   "source": [
    "data_tr = pd.read_csv('transactions.csv')\n",
    "#data_tr.head()\n",
    "#data_tr.info()\n",
    "\n",
    "data_filter = data_tr[ data_tr['Product'] == '_8']\n",
    "#data_filter.shape\n",
    "#data_filter\n",
    "\n",
    "max_Cost = data_filter.Cost.max()\n",
    "#data_filter.groupby('Cost').max()\n",
    "#max_Cost\n",
    "\n",
    "data_ID = data_filter[ data_filter.Cost == max_Cost]\n",
    "data_ID.ID"
   ]
  }
 ],
 "metadata": {
  "kernelspec": {
   "display_name": "Python 3",
   "language": "python",
   "name": "python3"
  },
  "language_info": {
   "codemirror_mode": {
    "name": "ipython",
    "version": 3
   },
   "file_extension": ".py",
   "mimetype": "text/x-python",
   "name": "python",
   "nbconvert_exporter": "python",
   "pygments_lexer": "ipython3",
   "version": "3.7.4"
  }
 },
 "nbformat": 4,
 "nbformat_minor": 2
}
